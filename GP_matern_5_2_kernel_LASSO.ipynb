{
 "cells": [
  {
   "cell_type": "code",
   "execution_count": 7,
   "metadata": {
    "collapsed": false,
    "deletable": true,
    "editable": true
   },
   "outputs": [],
   "source": [
    "from __future__ import division\n",
    "import numpy as np\n",
    "import matplotlib.pyplot as plt\n",
    "import seaborn as sns\n",
    "import pandas as pd\n",
    "import pickle\n",
    "\n",
    "# ML imports\n",
    "from sklearn import linear_model\n",
    "from scipy import optimize\n",
    "import scipy\n",
    "\n",
    "# custom imports\n",
    "import encoding_tools as encoding\n",
    "import chimera_tools as chimera\n",
    "import GP_tools as GP\n",
    "import lasso_tools as lasso_tools\n",
    "\n",
    "# Plot adjustments:\n",
    "sns.set_context(\"paper\")\n",
    "sns.set_style(\"white\")\n",
    "plt.rcParams.update({'ytick.labelsize': 12})\n",
    "plt.rcParams.update({'xtick.labelsize': 12})\n",
    "plt.rcParams.update({'axes.labelsize': 14})\n",
    "plt.rcParams.update({'legend.fontsize': 12})\n",
    "sns.color_palette('colorblind')\n",
    "\n",
    "plt.close('all')"
   ]
  },
  {
   "cell_type": "markdown",
   "metadata": {
    "deletable": true,
    "editable": true
   },
   "source": [
    "## Convert data to usable form"
   ]
  },
  {
   "cell_type": "code",
   "execution_count": 8,
   "metadata": {
    "collapsed": false,
    "deletable": true,
    "editable": true,
    "scrolled": true
   },
   "outputs": [],
   "source": [
    "# load ephys data\n",
    "path_inputs = 'inputs/'\n",
    "df_input = pd.read_csv(path_inputs+'Ephys_data_formatted.csv')\n",
    "df_input = df_input[df_input.gen != 3]\n",
    "\n",
    "# load library files\n",
    "file_c = path_inputs + 'shmetis_c_10_21_0/chimeras.output'\n",
    "file_n = path_inputs + 'shmetis_n_10_21_0/chimeras.output'\n",
    "\n",
    "# add sequence information to dataframe based on chimera code\n",
    "df_input = chimera.chimera_code2seq_convert(file_c,file_n,df_input)\n",
    "\n",
    "# load contact information\n",
    "fname_1 = path_inputs + 'alignment_and_contacts_C1C2.pkl'\n",
    "\n",
    "# load the contact map\n",
    "with open(fname_1, 'rb') as f:\n",
    "    ss, contacts = pickle.load(f)\n",
    "    \n",
    "# only use the first three parents\n",
    "ss = [i[0:3] for i in ss]"
   ]
  },
  {
   "cell_type": "markdown",
   "metadata": {
    "deletable": true,
    "editable": true
   },
   "source": [
    "## Spectra"
   ]
  },
  {
   "cell_type": "code",
   "execution_count": 9,
   "metadata": {
    "collapsed": false,
    "deletable": true,
    "editable": true,
    "scrolled": false
   },
   "outputs": [
    {
     "name": "stdout",
     "output_type": "stream",
     "text": [
      "20-fold corss validation of GP regression model\n",
      "R = 0.92\n"
     ]
    },
    {
     "data": {
      "image/png": "[encoded data removed]",
      "text/plain": [
       "<matplotlib.figure.Figure at 0x10676cc90>"
      ]
     },
     "metadata": {},
     "output_type": "display_data"
    }
   ],
   "source": [
    "# property of interest\n",
    "property_ = 'green_norm'\n",
    "lasso_alpha = 2.5e-2\n",
    "\n",
    "# format data for property \n",
    "log_data, y, seq, df_select = lasso_tools.data_format_all(property_, df_input)\n",
    "\n",
    "# encode sequences\n",
    "X = encoding.one_hot_(df_select['seq'].values, ss, contacts)\n",
    "X = np.array(X)\n",
    "\n",
    "# use lasso to limit the input \n",
    "coeffs = lasso_tools.lasso_(lasso_alpha, X, y)\n",
    "\n",
    "# reformat X with only lasso-limited set for GP model\n",
    "X_lasso = lasso_tools.lasso_reformat_X(coeffs, X)\n",
    "\n",
    "# evaluate cross-validation performance of GP model with lasso-limited set\n",
    "measured_CV, predicted_CV = lasso_tools.cross_validation(X_lasso, log_data, property_)\n",
    "\n",
    "# Bayesian ridge regression to find weights\n",
    "clf_ff = linear_model.BayesianRidge()\n",
    "clf_ff.fit(X_lasso, y)\n",
    "weights = clf_ff.coef_\n",
    "\n",
    "# find features \n",
    "df_features = lasso_tools.find_features(df_select, ss, contacts, coeffs, X, weights)\n",
    "\n",
    "# find the correct numbering for each feature\n",
    "df_features_reformat = lasso_tools.refromat_feature_numbering(df_features, df_select, property_, lasso_alpha)"
   ]
  },
  {
   "cell_type": "markdown",
   "metadata": {
    "deletable": true,
    "editable": true
   },
   "source": [
    "## Peak photcurrent"
   ]
  },
  {
   "cell_type": "code",
   "execution_count": 10,
   "metadata": {
    "collapsed": false,
    "deletable": true,
    "editable": true
   },
   "outputs": [
    {
     "name": "stdout",
     "output_type": "stream",
     "text": [
      "20-fold corss validation of GP regression model\n",
      "R = 0.80\n"
     ]
    },
    {
     "data": {
      "image/png": "[encoded data removed]",
      "text/plain": [
       "<matplotlib.figure.Figure at 0x117520390>"
      ]
     },
     "metadata": {},
     "output_type": "display_data"
    }
   ],
   "source": [
    "# property of interest\n",
    "property_ = 'max_peak'\n",
    "lasso_alpha = 5e-2\n",
    "\n",
    "# format data for property \n",
    "log_data, y, seq, df_select = lasso_tools.data_format_all(property_, df_input)\n",
    "\n",
    "# encode sequences\n",
    "X = encoding.one_hot_(df_select['seq'].values, ss, contacts)\n",
    "X = np.array(X)\n",
    "\n",
    "# use lasso to limit the input \n",
    "coeffs = lasso_tools.lasso_(lasso_alpha, X, y)\n",
    "\n",
    "# reformat X with only lasso-limited set for GP model\n",
    "X_lasso = lasso_tools.lasso_reformat_X(coeffs, X)\n",
    "\n",
    "# evaluate cross-validation performance of GP model with lasso-limited set\n",
    "measured_CV, predicted_CV = lasso_tools.cross_validation(X_lasso, log_data, property_)\n",
    "\n",
    "# Bayesian ridge regression to find weights\n",
    "clf_ff = linear_model.BayesianRidge()\n",
    "clf_ff.fit(X_lasso, y)\n",
    "weights = clf_ff.coef_\n",
    "\n",
    "# find features \n",
    "df_features = lasso_tools.find_features(df_select, ss, contacts, coeffs, X, weights)\n",
    "\n",
    "# find the correct numbering for each feature\n",
    "df_features_reformat = lasso_tools.refromat_feature_numbering(df_features, df_select, property_, lasso_alpha)"
   ]
  },
  {
   "cell_type": "markdown",
   "metadata": {
    "deletable": true,
    "editable": true
   },
   "source": [
    "## Off-kinetics"
   ]
  },
  {
   "cell_type": "code",
   "execution_count": 11,
   "metadata": {
    "collapsed": false,
    "deletable": true,
    "editable": true
   },
   "outputs": [
    {
     "name": "stdout",
     "output_type": "stream",
     "text": [
      "20-fold corss validation of GP regression model\n",
      "R = 0.92\n"
     ]
    },
    {
     "data": {
      "image/png": "[encoded data removed]",
      "text/plain": [
       "<matplotlib.figure.Figure at 0x105895410>"
      ]
     },
     "metadata": {},
     "output_type": "display_data"
    }
   ],
   "source": [
    "# property of interest\n",
    "property_ = 'kinetics_off'\n",
    "lasso_alpha = 3e-2\n",
    "\n",
    "# format data for property \n",
    "log_data, y, seq, df_select = lasso_tools.data_format_all(property_, df_input)\n",
    "\n",
    "# encode sequences\n",
    "X = encoding.one_hot_(df_select['seq'].values, ss, contacts)\n",
    "X = np.array(X)\n",
    "\n",
    "# use lasso to limit the input \n",
    "coeffs = lasso_tools.lasso_(lasso_alpha, X, y)\n",
    "\n",
    "# reformat X with only lasso-limited set for GP model\n",
    "X_lasso = lasso_tools.lasso_reformat_X(coeffs, X)\n",
    "\n",
    "# evaluate cross-validation performance of GP model with lasso-limited set\n",
    "measured_CV, predicted_CV = lasso_tools.cross_validation(X_lasso, log_data, property_)\n",
    "\n",
    "# Bayesian ridge regression to find weights\n",
    "clf_ff = linear_model.BayesianRidge()\n",
    "clf_ff.fit(X_lasso, y)\n",
    "weights = clf_ff.coef_\n",
    "\n",
    "# find features \n",
    "df_features = lasso_tools.find_features(df_select, ss, contacts, coeffs, X, weights)\n",
    "\n",
    "# find the correct numbering for each feature\n",
    "df_features_reformat = lasso_tools.refromat_feature_numbering(df_features, df_select, property_, lasso_alpha)"
   ]
  },
  {
   "cell_type": "code",
   "execution_count": null,
   "metadata": {
    "collapsed": true,
    "deletable": true,
    "editable": true
   },
   "outputs": [],
   "source": []
  }
 ],
 "metadata": {
  "kernelspec": {
   "display_name": "Python 2",
   "language": "python",
   "name": "python2"
  },
  "language_info": {
   "codemirror_mode": {
    "name": "ipython",
    "version": 2
   },
   "file_extension": ".py",
   "mimetype": "text/x-python",
   "name": "python",
   "nbconvert_exporter": "python",
   "pygments_lexer": "ipython2",
   "version": "2.7.6"
  }
 },
 "nbformat": 4,
 "nbformat_minor": 2
}
