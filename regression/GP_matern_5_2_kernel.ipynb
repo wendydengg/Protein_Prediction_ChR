{
 "cells": [
  {
   "cell_type": "code",
   "execution_count": null,
   "metadata": {
    "collapsed": false,
    "deletable": true,
    "editable": true,
    "scrolled": true
   },
   "outputs": [],
   "source": [
    "from __future__ import division\n",
    "import numpy as np\n",
    "import matplotlib.pyplot as plt\n",
    "import seaborn as sns\n",
    "import os\n",
    "import pandas as pd\n",
    "import pickle\n",
    "\n",
    "# ML imports\n",
    "from sklearn import linear_model\n",
    "from sklearn.cross_validation import train_test_split\n",
    "from sklearn.model_selection import LeaveOneOut\n",
    "from sklearn.metrics.pairwise import euclidean_distances\n",
    "from scipy.spatial import distance\n",
    "from scipy import optimize, linalg\n",
    "import scipy\n",
    "from sklearn.model_selection import KFold # import KFold\n",
    "\n",
    "# custom imports\n",
    "import encoding_tools as encoding\n",
    "import chimera_tools as chimera\n",
    "import GP_tools as GP\n",
    "\n",
    "# import scipy\n",
    "import seaborn as sns\n",
    "\n",
    "# define plotting settings\n",
    "sns.set_context(\"paper\")\n",
    "sns.set_style(\"white\")\n",
    "\n",
    "# Plot adjustments:\n",
    "plt.rcParams.update({'ytick.labelsize': 12})\n",
    "plt.rcParams.update({'xtick.labelsize': 12})\n",
    "plt.rcParams.update({'axes.labelsize': 14})\n",
    "plt.rcParams.update({'legend.fontsize': 12})\n",
    "plt.rcParams.update({u'axes.titlesize': 16})\n",
    "sns.color_palette('colorblind')\n",
    "plt.close('all')"
   ]
  },
  {
   "cell_type": "markdown",
   "metadata": {
    "deletable": true,
    "editable": true
   },
   "source": [
    "## Load model inputs"
   ]
  },
  {
   "cell_type": "code",
   "execution_count": 2,
   "metadata": {
    "collapsed": false,
    "deletable": true,
    "editable": true,
    "scrolled": true
   },
   "outputs": [],
   "source": [
    "# load ephys data\n",
    "path_inputs = 'inputs/'\n",
    "df_input = pd.read_csv(path_inputs+'Ephys_data_formatted.csv')\n",
    "\n",
    "# load library files\n",
    "file_c = path_inputs + 'shmetis_c_10_21_0/chimeras.output'\n",
    "file_n = path_inputs + 'shmetis_n_10_21_0/chimeras.output'\n",
    "\n",
    "# add sequence information to dataframe based on chimera code\n",
    "df_input = chimera.chimera_code2seq_convert(file_c,file_n,df_input)\n",
    "\n",
    "# load contact information\n",
    "fname_1 = path_inputs + 'alignment_and_contacts_C1C2.pkl'\n",
    "\n",
    "# load the contact map\n",
    "with open(fname_1, 'rb') as f:\n",
    "    ss, contacts = pickle.load(f)\n",
    "    \n",
    "# only use the first three parents\n",
    "ss = [i[0:3] for i in ss]"
   ]
  },
  {
   "cell_type": "markdown",
   "metadata": {
    "deletable": true,
    "editable": true
   },
   "source": [
    "## Data formating"
   ]
  },
  {
   "cell_type": "code",
   "execution_count": 3,
   "metadata": {
    "collapsed": true,
    "deletable": true,
    "editable": true
   },
   "outputs": [],
   "source": [
    "def data_format(property_, df):\n",
    "    # test data only includes gen 10\n",
    "    df_test_data = df[df.gen == 10]\n",
    "\n",
    "    # remove ChR_29_10 & ChR_30_10 for kinetics and spectra because currents too low for accurate measurements\n",
    "    if property_ == 'green_norm' or property_ == 'kinetics_off':\n",
    "        df_test_data = df_test_data[df_test_data.chimera != 'ChR_29_10']\n",
    "        df_test_data = df_test_data[df_test_data.chimera != 'ChR_30_10']\n",
    "\n",
    "    # training data excludes test data (gen 10)\n",
    "    df_data = df[df.gen != 10]\n",
    "\n",
    "    # make a seperate dataframe for the selected property\n",
    "    df_select = pd.DataFrame()\n",
    "    df_select['prop'] = df_data[str(property_)]\n",
    "    df_select['seq'] = df_data['seq']\n",
    "    df_select['block_k'] = df_data['block_k']\n",
    "    df_select['chimera'] = df_data['chimera']\n",
    "    df_select.dropna(inplace=True)\n",
    "\n",
    "    # normalize training data\n",
    "    log_data = np.log(df_select.prop.values)\n",
    "    y = (log_data - np.mean(log_data))/np.std(log_data)\n",
    "    seq = df_select.seq.values\n",
    "\n",
    "    # make a seperate dataframe for the selected property for test set\n",
    "    df_select_test = pd.DataFrame()\n",
    "    df_select_test['prop'] = df_test_data[str(property_)]\n",
    "    df_select_test['seq'] = df_test_data['seq']\n",
    "    df_select_test['block_k'] = df_test_data['block_k']\n",
    "    df_select_test['chimera'] = df_test_data['chimera']\n",
    "    df_select_test.dropna(inplace=True)\n",
    "\n",
    "    # normalize test data\n",
    "    log_data_test = np.log(df_select_test.prop.values)\n",
    "    y_true_test = (log_data_test - np.mean(log_data))/np.std(log_data)\n",
    "    seq_test = df_select_test.seq.values\n",
    "    return log_data, y, seq, y_true_test, seq_test, df_select, df_select_test"
   ]
  },
  {
   "cell_type": "markdown",
   "metadata": {
    "deletable": true,
    "editable": true
   },
   "source": [
    "## Encodings"
   ]
  },
  {
   "cell_type": "code",
   "execution_count": 4,
   "metadata": {
    "collapsed": true,
    "deletable": true,
    "editable": true
   },
   "outputs": [],
   "source": [
    "def encoding_inputs(df_select, df_select_test, ss, contacts):\n",
    "    # one_hot_encode based on sequence & structure\n",
    "    X = encoding.one_hot_(df_select['seq'].values, ss, contacts)\n",
    "    X = np.array(X)\n",
    "\n",
    "    # also encode the test sequences\n",
    "    X_true_test = encoding.one_hot_(df_select_test['seq'].values, ss, contacts)\n",
    "    X_true_test = np.array(X_true_test)\n",
    "    \n",
    "    return X, X_true_test"
   ]
  },
  {
   "cell_type": "markdown",
   "metadata": {
    "deletable": true,
    "editable": true
   },
   "source": [
    "## Train on split training data"
   ]
  },
  {
   "cell_type": "code",
   "execution_count": 5,
   "metadata": {
    "collapsed": true,
    "deletable": true,
    "editable": true,
    "scrolled": true
   },
   "outputs": [],
   "source": [
    "def cross_validation(X, log_data, property_):\n",
    "    path_outputs = 'outputs/'\n",
    "\n",
    "    kf = KFold(n_splits=20) # Define the split\n",
    "    kf.get_n_splits(X) # returns the number of splitting iterations in the cross-validator\n",
    "\n",
    "    mu_s = []\n",
    "    var_s = []\n",
    "    y_s = []\n",
    "    \n",
    "    for train_index, test_index in kf.split(X):\n",
    "        X_train, X_test = X[train_index], X[test_index]\n",
    "\n",
    "        log_data_train, log_data_test = log_data[train_index], log_data[test_index]\n",
    "\n",
    "        y_train = (log_data_train - np.mean(log_data_train))/np.std(log_data_train)\n",
    "        y_test = (log_data_test - np.mean(log_data_train))/np.std(log_data_train)\n",
    "\n",
    "        initial_guess = [0.1,10]\n",
    "\n",
    "        # take the log of the initial guess for optimiziation \n",
    "        initial_guess_log = np.log(initial_guess)\n",
    "\n",
    "        # optimize to fit model\n",
    "        result = scipy.optimize.minimize(GP.neg_log_marg_likelihood, initial_guess_log, args=(X_train,y_train), method='L-BFGS-B')#,\n",
    "\n",
    "        # next set of hyper prams \n",
    "        prams_me = [np.exp(result.x[0])**2, np.exp(result.x[1])]\n",
    "\n",
    "        # next used trained GP model to predict on test data\n",
    "        mu, var = GP.predict_GP(X_train, y_train, X_test, prams_me)\n",
    "        \n",
    "        # un normalize\n",
    "        y_test_real = np.exp(y_test*np.std(log_data_train)  + np.mean(log_data_train))\n",
    "        mu_real = np.exp(mu*np.std(log_data_train)  + np.mean(log_data_train))\n",
    "        \n",
    "        mu_s.append(mu)\n",
    "        var_s.append(var)\n",
    "        y_s.append(y_test)\n",
    "\n",
    "    # reformat all\n",
    "    y_s_all = [j for i in y_s for j in i]\n",
    "    mu_s_all = [j for i in mu_s for j in i]\n",
    "\n",
    "    # plot results\n",
    "    plt.figure('My GP test set evaluation', figsize=(1.5, 1.5))\n",
    "    plt.plot(y_s_all, mu_s_all, 'o', ms=3, color='k')\n",
    "\n",
    "\n",
    "    # calculate correlation \n",
    "    measured = y_s_all\n",
    "    predicted = mu_s_all\n",
    "\n",
    "    par = np.polyfit(measured, predicted, 1, full=True)\n",
    "    slope=par[0][0]\n",
    "    intercept=par[0][1]\n",
    "\n",
    "    # calc correlation \n",
    "    variance = np.var(predicted)\n",
    "    residuals = np.var([(slope*xx + intercept - yy)  for xx,yy in zip(measured, predicted)])\n",
    "    Rsqr = np.round(1-residuals/variance, decimals=2)\n",
    "    \n",
    "    print('20-fold corss validation of GP regression model')\n",
    "    print('R = %0.2f'% np.sqrt(Rsqr))\n",
    "\n",
    "    max_x = np.max(y_s_all)\n",
    "    min_x = np.min(y_s_all)\n",
    "    \n",
    "    plt.plot([min_x, max_x], [slope*min_x+intercept, slope*max_x+intercept], '-', color='k')\n",
    "    plt.savefig(path_outputs + str(property_)+'_matern_kernel_CV_fig1.pdf', bbox_inches='tight', transparent=True)\n",
    "    plt.show()\n",
    "    return measured, predicted\n"
   ]
  },
  {
   "cell_type": "markdown",
   "metadata": {
    "deletable": true,
    "editable": true
   },
   "source": [
    "## Evaluate on whole training set"
   ]
  },
  {
   "cell_type": "code",
   "execution_count": 6,
   "metadata": {
    "collapsed": false,
    "deletable": true,
    "editable": true,
    "scrolled": false
   },
   "outputs": [],
   "source": [
    "def ML_train(X, y):\n",
    "    # test the optimization of the hyp-prams\n",
    "    initial_guess = [0.9,0.9]\n",
    "\n",
    "    # take the log of the initial guess for optimiziation \n",
    "    initial_guess_log = np.log(initial_guess)\n",
    "\n",
    "    # optimize to fit model\n",
    "    result = scipy.optimize.minimize(GP.neg_log_marg_likelihood, initial_guess_log, args=(X,y), method='L-BFGS-B')\n",
    "    \n",
    "    print('Full GP regression model')\n",
    "    print('Hyperparameters: ' + str(np.exp(result.x[0])) + ' ' + str(np.exp(result.x[1])))\n",
    "\n",
    "    # next set of hyper prams \n",
    "    final_prams = [np.exp(result.x[0]), np.exp(result.x[1])]\n",
    "    \n",
    "    return final_prams\n",
    "    \n",
    "def ML_predict(X, y, X_true_test, y_true_test, log_data, final_prams, property_):\n",
    "    path_outputs = 'outputs/'\n",
    "    \n",
    "    # next use trained GP model to predict full test set\n",
    "    mu_true_test, var_true_test = GP.predict_GP(X, y, X_true_test, final_prams)\n",
    "\n",
    "    # convert the true test predications and y back to unnormalized data\n",
    "    y_test_real = np.exp(y_true_test*np.std(log_data)  + np.mean(log_data))\n",
    "    mu_test_real = np.exp(mu_true_test*np.std(log_data)  + np.mean(log_data))\n",
    "\n",
    "    if property_ != 'kinetics_off':\n",
    "        \n",
    "        par = np.polyfit(y_test_real, mu_test_real, 1, full=True)\n",
    "        slope=par[0][0]\n",
    "        intercept=par[0][1]\n",
    "        \n",
    "        # coefficient of determination, plot text\n",
    "        variance = np.var(mu_test_real)\n",
    "        residuals = np.var([(slope*xx + intercept - yy)  for xx,yy in zip(y_test_real, mu_test_real)])\n",
    "        Rsqr = np.round(1-residuals/variance, decimals=2)\n",
    "        print('GP regression model test set')\n",
    "        print('R = %0.3f'% np.sqrt(Rsqr))\n",
    "        \n",
    "        # plot and measure correlation\n",
    "        plt.figure('True test', figsize=(1.5, 1.5))\n",
    "        plt.plot(y_test_real, mu_test_real, 'o', ms=3, color='k')\n",
    "        \n",
    "        max_x = np.max(y_test_real)\n",
    "        plt.plot([0, max_x], [intercept, slope*max_x+intercept], '-', color='k')\n",
    "        plt.savefig(path_outputs + str(property_)+'_matern_kernel.pdf', bbox_inches='tight', transparent=True)\n",
    "        plt.show()\n",
    "\n",
    "    elif property_ == 'kinetics_off':\n",
    "        \n",
    "        par = np.polyfit(np.log10(y_test_real), np.log10(mu_test_real), 1, full=True)\n",
    "        slope=par[0][0]\n",
    "        intercept=par[0][1]\n",
    "        \n",
    "        # coefficient of determination, plot text\n",
    "        variance = np.var(np.log10(mu_test_real))\n",
    "        residuals = np.var([(slope*xx + intercept - yy)  for xx,yy in zip(np.log10(y_test_real), np.log10(mu_test_real))])\n",
    "        Rsqr = np.round(1-residuals/variance, decimals=2)\n",
    "        print('GP regression model test set')\n",
    "        print('R = %0.3f'% np.sqrt(Rsqr))\n",
    "        \n",
    "        # plot and measure correlation\n",
    "        plt.figure('True test', figsize=(1.5, 1.5))\n",
    "        plt.plot(np.log10(y_test_real), np.log10(mu_test_real), 'o',  ms=3, color='k')\n",
    "        \n",
    "        max_x = np.max(y_test_real)\n",
    "        min_x = np.min(y_test_real)\n",
    "        \n",
    "        plt.plot([np.log10(min_x), np.log10(max_x)], [np.log10(slope*min_x+intercept), np.log10(slope*max_x+intercept)], '-', color='k')\n",
    "        \n",
    "        plt.savefig(path_outputs + str(property_)+'_matern_kernel.pdf', bbox_inches='tight', transparent=True)\n",
    "        plt.show()\n",
    "\n",
    "    # export csv with predicted values\n",
    "    df_select_test['y'] = y_true_test\n",
    "    df_select_test['mu'] = mu_true_test\n",
    "    df_select_test['y_real'] = y_test_real\n",
    "    df_select_test['mu_real'] = mu_test_real\n",
    "\n",
    "    df_select_test.to_csv(path_outputs+ 'matern_kernel_gen10_'+str(property_)+'.csv')\n",
    "    return"
   ]
  },
  {
   "cell_type": "markdown",
   "metadata": {
    "deletable": true,
    "editable": true
   },
   "source": [
    "# Train models are different properties "
   ]
  },
  {
   "cell_type": "markdown",
   "metadata": {
    "deletable": true,
    "editable": true
   },
   "source": [
    "### Max_peak"
   ]
  },
  {
   "cell_type": "code",
   "execution_count": 7,
   "metadata": {
    "collapsed": false,
    "deletable": true,
    "editable": true
   },
   "outputs": [
    {
     "name": "stdout",
     "output_type": "stream",
     "text": [
      "20-fold corss validation of GP regression model\n",
      "R = 0.77\n"
     ]
    },
    {
     "data": {
      "image/png": "[encoded data removed]",
      "text/plain": [
       "<matplotlib.figure.Figure at 0x11744f9d0>"
      ]
     },
     "metadata": {},
     "output_type": "display_data"
    },
    {
     "name": "stdout",
     "output_type": "stream",
     "text": [
      "Full GP regression model\n",
      "Hyperparameters: 0.0486636299687 19.6621464374\n",
      "GP regression model test set\n",
      "R = 0.927\n"
     ]
    },
    {
     "data": {
      "image/png": "[encoded data removed]",
      "text/plain": [
       "<matplotlib.figure.Figure at 0x10604d290>"
      ]
     },
     "metadata": {},
     "output_type": "display_data"
    }
   ],
   "source": [
    "# select the property of interest\n",
    "property_ = 'max_peak'\n",
    "\n",
    "# format data for property \n",
    "log_data, y, seq, y_true_test, seq_test, df_select, df_select_test = data_format(property_, df_input)\n",
    "\n",
    "# encode sequences\n",
    "X, X_true_test = encoding_inputs(df_select, df_select_test, ss, contacts)\n",
    "\n",
    "# train and CV model\n",
    "measured_CV, predicted_CV = cross_validation(X, log_data, property_)\n",
    "\n",
    "# train model on whole test set\n",
    "final_prams = ML_train(X, y)\n",
    "\n",
    "# use model to predict on test set and evaluate accuracy\n",
    "ML_predict(X, y, X_true_test, y_true_test, log_data, final_prams, property_)"
   ]
  },
  {
   "cell_type": "markdown",
   "metadata": {
    "deletable": true,
    "editable": true
   },
   "source": [
    "### Norm_green"
   ]
  },
  {
   "cell_type": "code",
   "execution_count": 8,
   "metadata": {
    "collapsed": false,
    "deletable": true,
    "editable": true
   },
   "outputs": [
    {
     "name": "stdout",
     "output_type": "stream",
     "text": [
      "20-fold corss validation of GP regression model\n",
      "R = 0.90\n"
     ]
    },
    {
     "data": {
      "image/png": "[encoded data removed]",
      "text/plain": [
       "<matplotlib.figure.Figure at 0x106055050>"
      ]
     },
     "metadata": {},
     "output_type": "display_data"
    },
    {
     "name": "stdout",
     "output_type": "stream",
     "text": [
      "Full GP regression model\n",
      "Hyperparameters: 0.104064905203 38.5362857546\n",
      "GP regression model test set\n",
      "R = 0.964\n"
     ]
    },
    {
     "data": {
      "image/png": "[encoded data removed]",
      "text/plain": [
       "<matplotlib.figure.Figure at 0x1054b9450>"
      ]
     },
     "metadata": {},
     "output_type": "display_data"
    }
   ],
   "source": [
    "# select the property of interest\n",
    "property_ = 'green_norm'\n",
    "\n",
    "# format data for property \n",
    "log_data, y, seq, y_true_test, seq_test, df_select, df_select_test = data_format(property_, df_input)\n",
    "\n",
    "# encode sequences\n",
    "X, X_true_test = encoding_inputs(df_select, df_select_test, ss, contacts)\n",
    "\n",
    "# train and CV model\n",
    "measured_CV, predicted_CV = cross_validation(X, log_data, property_)\n",
    "\n",
    "# train model on whole test set\n",
    "final_prams = ML_train(X, y)\n",
    "# use model to predict on test set and evaluate accuracy\n",
    "ML_predict(X, y, X_true_test, y_true_test, log_data, final_prams, property_)"
   ]
  },
  {
   "cell_type": "markdown",
   "metadata": {
    "deletable": true,
    "editable": true
   },
   "source": [
    "### Kinetics_off"
   ]
  },
  {
   "cell_type": "code",
   "execution_count": 9,
   "metadata": {
    "collapsed": false,
    "deletable": true,
    "editable": true
   },
   "outputs": [
    {
     "name": "stdout",
     "output_type": "stream",
     "text": [
      "20-fold corss validation of GP regression model\n",
      "R = 0.79\n"
     ]
    },
    {
     "data": {
      "image/png": "[encoded data removed]",
      "text/plain": [
       "<matplotlib.figure.Figure at 0x1054b0ed0>"
      ]
     },
     "metadata": {},
     "output_type": "display_data"
    },
    {
     "name": "stdout",
     "output_type": "stream",
     "text": [
      "Full GP regression model\n",
      "Hyperparameters: 0.0127667028933 19.179798011\n",
      "GP regression model test set\n",
      "R = 0.959\n"
     ]
    },
    {
     "data": {
      "image/png": "[encoded data removed]",
      "text/plain": [
       "<matplotlib.figure.Figure at 0x105493d50>"
      ]
     },
     "metadata": {},
     "output_type": "display_data"
    }
   ],
   "source": [
    "# select the property of interest\n",
    "property_ = 'kinetics_off'\n",
    "colors = sns.color_palette('colorblind')[2]\n",
    "\n",
    "# format data for property \n",
    "log_data, y, seq, y_true_test, seq_test, df_select, df_select_test = data_format(property_, df_input)\n",
    "# encode sequences\n",
    "X, X_true_test = encoding_inputs(df_select, df_select_test, ss, contacts)\n",
    "# train and CV model\n",
    "cross_validation(X, log_data, property_)\n",
    "\n",
    "# train model on whole test set\n",
    "final_prams = ML_train(X, y)\n",
    "\n",
    "# use model to predict on test set and evaluate accuracy\n",
    "ML_predict(X, y, X_true_test, y_true_test, log_data, final_prams, property_)"
   ]
  },
  {
   "cell_type": "code",
   "execution_count": null,
   "metadata": {
    "collapsed": true
   },
   "outputs": [],
   "source": []
  }
 ],
 "metadata": {
  "kernelspec": {
   "display_name": "Python 2",
   "language": "python",
   "name": "python2"
  },
  "language_info": {
   "codemirror_mode": {
    "name": "ipython",
    "version": 2
   },
   "file_extension": ".py",
   "mimetype": "text/x-python",
   "name": "python",
   "nbconvert_exporter": "python",
   "pygments_lexer": "ipython2",
   "version": "2.7.6"
  }
 },
 "nbformat": 4,
 "nbformat_minor": 2
}
